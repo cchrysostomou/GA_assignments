{
 "cells": [
  {
   "cell_type": "code",
   "execution_count": null,
   "metadata": {
    "collapsed": true
   },
   "outputs": [],
   "source": []
  },
  {
   "cell_type": "code",
   "execution_count": 4,
   "metadata": {
    "collapsed": true
   },
   "outputs": [],
   "source": [
    "with open('airline-safety.csv', 'rU') as f:\n",
    "    lines = [l.strip() for l in f]"
   ]
  },
  {
   "cell_type": "code",
   "execution_count": 7,
   "metadata": {
    "collapsed": false,
    "scrolled": true
   },
   "outputs": [
    {
     "data": {
      "text/plain": [
       "[['airline',\n",
       "  'avail_seat_km_per_week',\n",
       "  'incidents_85_99',\n",
       "  'fatal_accidents_85_99',\n",
       "  'fatalities_85_99',\n",
       "  'incidents_00_14',\n",
       "  'fatal_accidents_00_14',\n",
       "  'fatalities_00_14'],\n",
       " ['Aer Lingus', '320906734', '2', '0', '0', '0', '0', '0'],\n",
       " ['Aeroflot*', '1197672318', '76', '14', '128', '6', '1', '88'],\n",
       " ['Aerolineas Argentinas', '385803648', '6', '0', '0', '1', '0', '0'],\n",
       " ['Aeromexico*', '596871813', '3', '1', '64', '5', '0', '0'],\n",
       " ['Air Canada', '1865253802', '2', '0', '0', '2', '0', '0'],\n",
       " ['Air France', '3004002661', '14', '4', '79', '6', '2', '337'],\n",
       " ['Air India*', '869253552', '2', '1', '329', '4', '1', '158'],\n",
       " ['Air New Zealand*', '710174817', '3', '0', '0', '5', '1', '7'],\n",
       " ['Alaska Airlines*', '965346773', '5', '0', '0', '5', '1', '88'],\n",
       " ['Alitalia', '698012498', '7', '2', '50', '4', '0', '0'],\n",
       " ['All Nippon Airways', '1841234177', '3', '1', '1', '7', '0', '0'],\n",
       " ['American*', '5228357340', '21', '5', '101', '17', '3', '416'],\n",
       " ['Austrian Airlines', '358239823', '1', '0', '0', '1', '0', '0'],\n",
       " ['Avianca', '396922563', '5', '3', '323', '0', '0', '0'],\n",
       " ['British Airways*', '3179760952', '4', '0', '0', '6', '0', '0'],\n",
       " ['Cathay Pacific*', '2582459303', '0', '0', '0', '2', '0', '0'],\n",
       " ['China Airlines', '813216487', '12', '6', '535', '2', '1', '225'],\n",
       " ['Condor', '417982610', '2', '1', '16', '0', '0', '0'],\n",
       " ['COPA', '550491507', '3', '1', '47', '0', '0', '0'],\n",
       " ['Delta / Northwest*', '6525658894', '24', '12', '407', '24', '2', '51'],\n",
       " ['Egyptair', '557699891', '8', '3', '282', '4', '1', '14'],\n",
       " ['El Al', '335448023', '1', '1', '4', '1', '0', '0'],\n",
       " ['Ethiopian Airlines', '488560643', '25', '5', '167', '5', '2', '92'],\n",
       " ['Finnair', '506464950', '1', '0', '0', '0', '0', '0'],\n",
       " ['Garuda Indonesia', '613356665', '10', '3', '260', '4', '2', '22'],\n",
       " ['Gulf Air', '301379762', '1', '0', '0', '3', '1', '143'],\n",
       " ['Hawaiian Airlines', '493877795', '0', '0', '0', '1', '0', '0'],\n",
       " ['Iberia', '1173203126', '4', '1', '148', '5', '0', '0'],\n",
       " ['Japan Airlines', '1574217531', '3', '1', '520', '0', '0', '0'],\n",
       " ['Kenya Airways', '277414794', '2', '0', '0', '2', '2', '283'],\n",
       " ['KLM*', '1874561773', '7', '1', '3', '1', '0', '0'],\n",
       " ['Korean Air', '1734522605', '12', '5', '425', '1', '0', '0'],\n",
       " ['LAN Airlines', '1001965891', '3', '2', '21', '0', '0', '0'],\n",
       " ['Lufthansa*', '3426529504', '6', '1', '2', '3', '0', '0'],\n",
       " ['Malaysia Airlines', '1039171244', '3', '1', '34', '3', '2', '537'],\n",
       " ['Pakistan International', '348563137', '8', '3', '234', '10', '2', '46'],\n",
       " ['Philippine Airlines', '413007158', '7', '4', '74', '2', '1', '1'],\n",
       " ['Qantas*', '1917428984', '1', '0', '0', '5', '0', '0'],\n",
       " ['Royal Air Maroc', '295705339', '5', '3', '51', '3', '0', '0'],\n",
       " ['SAS*', '682971852', '5', '0', '0', '6', '1', '110'],\n",
       " ['Saudi Arabian', '859673901', '7', '2', '313', '11', '0', '0'],\n",
       " ['Singapore Airlines', '2376857805', '2', '2', '6', '2', '1', '83'],\n",
       " ['South African', '651502442', '2', '1', '159', '1', '0', '0'],\n",
       " ['Southwest Airlines', '3276525770', '1', '0', '0', '8', '0', '0'],\n",
       " ['Sri Lankan / AirLanka', '325582976', '2', '1', '14', '4', '0', '0'],\n",
       " ['SWISS*', '792601299', '2', '1', '229', '3', '0', '0'],\n",
       " ['TACA', '259373346', '3', '1', '3', '1', '1', '3'],\n",
       " ['TAM', '1509195646', '8', '3', '98', '7', '2', '188'],\n",
       " ['TAP - Air Portugal', '619130754', '0', '0', '0', '0', '0', '0'],\n",
       " ['Thai Airways', '1702802250', '8', '4', '308', '2', '1', '1'],\n",
       " ['Turkish Airlines', '1946098294', '8', '3', '64', '8', '2', '84'],\n",
       " ['United / Continental*', '7139291291', '19', '8', '319', '14', '2', '109'],\n",
       " ['US Airways / America West*',\n",
       "  '2455687887',\n",
       "  '16',\n",
       "  '7',\n",
       "  '224',\n",
       "  '11',\n",
       "  '2',\n",
       "  '23'],\n",
       " ['Vietnam Airlines', '625084918', '7', '3', '171', '1', '0', '0'],\n",
       " ['Virgin Atlantic', '1005248585', '1', '0', '0', '0', '0', '0'],\n",
       " ['Xiamen Airlines', '430462962', '9', '1', '82', '2', '0', '0']]"
      ]
     },
     "execution_count": 7,
     "metadata": {},
     "output_type": "execute_result"
    }
   ],
   "source": [
    "split = [l.split(',') for l in lines]\n",
    "split"
   ]
  },
  {
   "cell_type": "code",
   "execution_count": 16,
   "metadata": {
    "collapsed": false
   },
   "outputs": [],
   "source": [
    "import csv\n",
    "\n",
    "with open('airline-safety.csv', 'rU') as f:\n",
    "    reader = csv.reader(f, delimiter=',')\n",
    "    split = [r for r in reader]"
   ]
  },
  {
   "cell_type": "code",
   "execution_count": 18,
   "metadata": {
    "collapsed": false
   },
   "outputs": [],
   "source": [
    "header = split[0]\n",
    "data = split[1:]"
   ]
  },
  {
   "cell_type": "code",
   "execution_count": 57,
   "metadata": {
    "collapsed": false
   },
   "outputs": [
    {
     "data": {
      "text/plain": [
       "{'Aer Lingus': 0.06666666666666667,\n",
       " 'Aeroflot': 2.7333333333333334,\n",
       " 'Aerolineas Argentinas': 0.23333333333333334,\n",
       " 'Aeromexico': 0.26666666666666666,\n",
       " 'Air Canada': 0.13333333333333333,\n",
       " 'Air France': 0.6666666666666666,\n",
       " 'Air India': 0.2,\n",
       " 'Air New Zealand': 0.26666666666666666,\n",
       " 'Alaska Airlines': 0.3333333333333333,\n",
       " 'Alitalia': 0.36666666666666664,\n",
       " 'All Nippon Airways': 0.3333333333333333,\n",
       " 'American': 1.2666666666666666,\n",
       " 'Austrian Airlines': 0.06666666666666667,\n",
       " 'Avianca': 0.16666666666666666,\n",
       " 'British Airways': 0.3333333333333333,\n",
       " 'COPA': 0.1,\n",
       " 'Cathay Pacific': 0.06666666666666667,\n",
       " 'China Airlines': 0.4666666666666667,\n",
       " 'Condor': 0.06666666666666667,\n",
       " 'Delta / Northwest': 1.6,\n",
       " 'Egyptair': 0.4,\n",
       " 'El Al': 0.06666666666666667,\n",
       " 'Ethiopian Airlines': 1.0,\n",
       " 'Finnair': 0.03333333333333333,\n",
       " 'Garuda Indonesia': 0.4666666666666667,\n",
       " 'Gulf Air': 0.13333333333333333,\n",
       " 'Hawaiian Airlines': 0.03333333333333333,\n",
       " 'Iberia': 0.3,\n",
       " 'Japan Airlines': 0.1,\n",
       " 'KLM': 0.26666666666666666,\n",
       " 'Kenya Airways': 0.13333333333333333,\n",
       " 'Korean Air': 0.43333333333333335,\n",
       " 'LAN Airlines': 0.1,\n",
       " 'Lufthansa': 0.3,\n",
       " 'Malaysia Airlines': 0.2,\n",
       " 'Pakistan International': 0.6,\n",
       " 'Philippine Airlines': 0.3,\n",
       " 'Qantas': 0.2,\n",
       " 'Royal Air Maroc': 0.26666666666666666,\n",
       " 'SAS': 0.36666666666666664,\n",
       " 'SWISS': 0.16666666666666666,\n",
       " 'Saudi Arabian': 0.6,\n",
       " 'Singapore Airlines': 0.13333333333333333,\n",
       " 'South African': 0.1,\n",
       " 'Southwest Airlines': 0.3,\n",
       " 'Sri Lankan / AirLanka': 0.2,\n",
       " 'TACA': 0.13333333333333333,\n",
       " 'TAM': 0.5,\n",
       " 'TAP - Air Portugal': 0.0,\n",
       " 'Thai Airways': 0.3333333333333333,\n",
       " 'Turkish Airlines': 0.5333333333333333,\n",
       " 'US Airways / America West': 0.9,\n",
       " 'United / Continental': 1.1,\n",
       " 'Vietnam Airlines': 0.26666666666666666,\n",
       " 'Virgin Atlantic': 0.03333333333333333,\n",
       " 'Xiamen Airlines': 0.36666666666666664}"
      ]
     },
     "execution_count": 57,
     "metadata": {},
     "output_type": "execute_result"
    }
   ],
   "source": [
    "avg_inc = [sum([float(a) for a in [r[2], r[5]]]) / 30 for r in data]\n",
    "no_st = [r[0].replace('*', '') for r in data]\n",
    "d = {a: b for (b, a) in zip(avg_inc, no_st)}\n",
    "d"
   ]
  },
  {
   "cell_type": "code",
   "execution_count": 55,
   "metadata": {
    "collapsed": false
   },
   "outputs": [
    {
     "data": {
      "text/plain": [
       "[0,\n",
       " 1,\n",
       " 0,\n",
       " 1,\n",
       " 0,\n",
       " 0,\n",
       " 1,\n",
       " 1,\n",
       " 1,\n",
       " 0,\n",
       " 0,\n",
       " 1,\n",
       " 0,\n",
       " 0,\n",
       " 1,\n",
       " 1,\n",
       " 0,\n",
       " 0,\n",
       " 0,\n",
       " 1,\n",
       " 0,\n",
       " 0,\n",
       " 0,\n",
       " 0,\n",
       " 0,\n",
       " 0,\n",
       " 0,\n",
       " 0,\n",
       " 0,\n",
       " 0,\n",
       " 1,\n",
       " 0,\n",
       " 0,\n",
       " 1,\n",
       " 0,\n",
       " 0,\n",
       " 0,\n",
       " 1,\n",
       " 0,\n",
       " 1,\n",
       " 0,\n",
       " 0,\n",
       " 0,\n",
       " 0,\n",
       " 0,\n",
       " 1,\n",
       " 0,\n",
       " 0,\n",
       " 0,\n",
       " 0,\n",
       " 0,\n",
       " 1,\n",
       " 1,\n",
       " 0,\n",
       " 0,\n",
       " 0]"
      ]
     },
     "execution_count": 55,
     "metadata": {},
     "output_type": "execute_result"
    }
   ],
   "source": [
    "[int('*' in r[0]) for r in data]"
   ]
  },
  {
   "cell_type": "code",
   "execution_count": 36,
   "metadata": {
    "collapsed": false
   },
   "outputs": [
    {
     "data": {
      "text/plain": [
       "['Aeroflot*', '1197672318', '76', '14', '128', '6', '1', '88']"
      ]
     },
     "execution_count": 36,
     "metadata": {},
     "output_type": "execute_result"
    }
   ],
   "source": [
    "data[1]"
   ]
  },
  {
   "cell_type": "code",
   "execution_count": 27,
   "metadata": {
    "collapsed": false
   },
   "outputs": [
    {
     "data": {
      "text/plain": [
       "10.433333333333334"
      ]
     },
     "execution_count": 27,
     "metadata": {},
     "output_type": "execute_result"
    }
   ],
   "source": [
    "313.0/30"
   ]
  },
  {
   "cell_type": "code",
   "execution_count": 21,
   "metadata": {
    "collapsed": false
   },
   "outputs": [
    {
     "data": {
      "text/plain": [
       "['airline',\n",
       " 'avail_seat_km_per_week',\n",
       " 'incidents_85_99',\n",
       " 'fatal_accidents_85_99',\n",
       " 'fatalities_85_99',\n",
       " 'incidents_00_14',\n",
       " 'fatal_accidents_00_14',\n",
       " 'fatalities_00_14']"
      ]
     },
     "execution_count": 21,
     "metadata": {},
     "output_type": "execute_result"
    }
   ],
   "source": [
    "header"
   ]
  }
 ],
 "metadata": {
  "kernelspec": {
   "display_name": "Python 2",
   "language": "python",
   "name": "python2"
  },
  "language_info": {
   "codemirror_mode": {
    "name": "ipython",
    "version": 2
   },
   "file_extension": ".py",
   "mimetype": "text/x-python",
   "name": "python",
   "nbconvert_exporter": "python",
   "pygments_lexer": "ipython2",
   "version": "2.7.12"
  }
 },
 "nbformat": 4,
 "nbformat_minor": 0
}
